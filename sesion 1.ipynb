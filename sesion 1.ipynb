{
 "cells": [
  {
   "cell_type": "markdown",
   "metadata": {},
   "source": [
    "<center><h1>ANALITICA DE DATOS CON PYTHON</h1></center>\n",
    " <center>por: Alejandro Salgar Marin</center>"
   ]
  },
  {
   "cell_type": "markdown",
   "metadata": {},
   "source": [
    "## Python\n",
    "\n",
    "Python es un lenguaje de programación interpretado cuya filosofía hace hincapié en una sintaxis que favorezca un código legible. Se trata de un lenguaje de programación multiparadigma, ya que soporta orientación a objetos, programación imperativa y, en menor medida, programación funcional. Es un lenguaje interpretado, de tipado fuerte, dinámico y multiplataforma.\n",
    "\n",
    "## Caracteristicas\n",
    "\n",
    "- Lenguaje de alto nivel.\n",
    "- Tipado dinamico y fuerte.\n",
    "- Orientado a objetos.\n",
    "- Open source.\n",
    "- Interpretado.\n",
    "- Multiplataforma.\n",
    "\n",
    "## Historia\n",
    "\n",
    "Python fue creado a finales de los ochenta por Guido van Rossum en el Centro para las Matemáticas y la Informática (CWI, Centrum Wiskunde & Informatica), en los Países Bajos, como un sucesor del lenguaje de programación ABC.\n",
    "\n",
    "## Que es pip\n",
    "\n",
    "PiP es un acrónimo recursivo de \" Pip Installs Packages \". Es esencialmente un sistema de administración de paquetes utilizado para instalar y administrar paquetes de software escritos en Python py -m pip install pandas\n",
    "\n",
    "## Donde programar ?\n",
    "\n",
    "- Consola (.py)\n",
    "- Bloc de notas\n",
    "- ipython (Interactive python)\n",
    "- jupyter notebook (.ipynb)\n",
    "- jupyter.org (nube)\n",
    "- Colaboratory (google)\n",
    "- IDLE\n",
    "- Spyder (Distribución anaconda navigator)\n",
    "\n",
    "## Librerias mas usadas en python\n",
    "\n",
    "NumPy (soporte para vectores y matrices)\n",
    "scipy (computacion cientifica)\n",
    "pandas (estadistica, data frame)\n",
    "scikit learn (machine learning)\n",
    "tensorflow (redes neuronales)\n",
    "astropy (para astronomia)\n",
    "matplotlib (graficacion)\n",
    "pytorch\n",
    "Tipos de datos en Python (lo veremos en detalle mas adelante)\n",
    "\n",
    "Enteros (int)\n",
    "Booleanos (bool) (compatibles con opeaciones booleanas and, or, not.)\n",
    "Cadenas (str)\n",
    "Listas: Son un grupo o array de datos (mutables)\n",
    "Diccionarios: Son un grupo de valores o datos que se acceden a travéz de una clave\n",
    "Tuplas: también son un grupo de datos igual que una lista (pero inmutables)\n",
    "\n",
    "# Etapas del Análisis de datos\n",
    "\n",
    "- 1) Enmarcar el problema\n",
    "\n",
    "¿Cual es el objetivo del análisis?\n",
    "\n",
    "- 2) Adquirir y preparar los datos\n",
    "\n",
    "- 3) Explorar los datos\n",
    "\n",
    "Estadística descriptiva\n",
    "\n",
    "- 4) Modelamiento y evaluacion de resultados\n",
    "\n",
    "- 5) Comunicar los resultados/ poner en producción"
   ]
  },
  {
   "cell_type": "code",
   "execution_count": null,
   "metadata": {},
   "outputs": [],
   "source": []
  },
  {
   "cell_type": "code",
   "execution_count": null,
   "metadata": {},
   "outputs": [],
   "source": []
  },
  {
   "cell_type": "code",
   "execution_count": null,
   "metadata": {},
   "outputs": [],
   "source": []
  }
 ],
 "metadata": {
  "kernelspec": {
   "display_name": "Python 3",
   "language": "python",
   "name": "python3"
  },
  "language_info": {
   "codemirror_mode": {
    "name": "ipython",
    "version": 3
   },
   "file_extension": ".py",
   "mimetype": "text/x-python",
   "name": "python",
   "nbconvert_exporter": "python",
   "pygments_lexer": "ipython3",
   "version": "3.7.6"
  }
 },
 "nbformat": 4,
 "nbformat_minor": 4
}
